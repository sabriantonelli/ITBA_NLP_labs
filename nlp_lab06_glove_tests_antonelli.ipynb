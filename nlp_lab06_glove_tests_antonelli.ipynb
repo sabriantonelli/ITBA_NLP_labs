{
  "cells": [
    {
      "cell_type": "markdown",
      "metadata": {
        "id": "view-in-github"
      },
      "source": [
        "<a href=\"https://colab.research.google.com/github/deeplearning-itba/NLP-Embeddings/blob/master/06_glove_tests.ipynb\" target=\"_parent\"><img src=\"https://colab.research.google.com/assets/colab-badge.svg\" alt=\"Open In Colab\"/></a>"
      ]
    },
    {
      "cell_type": "code",
      "execution_count": 1,
      "metadata": {
        "id": "v-mvGMujSz8W",
        "colab": {
          "base_uri": "https://localhost:8080/"
        },
        "outputId": "59b8aff0-9dcd-4189-ca62-7557d155dce1"
      },
      "outputs": [
        {
          "output_type": "stream",
          "name": "stdout",
          "text": [
            "Mounted at /content/drive\n"
          ]
        }
      ],
      "source": [
        "from google.colab import drive\n",
        "drive.mount('/content/drive')"
      ]
    },
    {
      "cell_type": "markdown",
      "metadata": {
        "id": "O-pmzBsoTA92"
      },
      "source": [
        "Agregar este archivo a la carpeta de google drive clickeando en el link y clickeando el '+' arriba a la derecha\n",
        "\n",
        "https://drive.google.com/open?id=1jJ20oNZIysi-V-iORAE0eEZq4LhuWxUW"
      ]
    },
    {
      "cell_type": "code",
      "execution_count": 2,
      "metadata": {
        "id": "kfTcbRdGVRj4"
      },
      "outputs": [],
      "source": [
        "import codecs\n",
        "import numpy as np"
      ]
    },
    {
      "cell_type": "code",
      "execution_count": 3,
      "metadata": {
        "id": "JUUN3Z3BRO5_",
        "outputId": "78fdd7e2-d77d-4bdd-9021-75e503cb4910",
        "colab": {
          "base_uri": "https://localhost:8080/"
        }
      },
      "outputs": [
        {
          "output_type": "stream",
          "name": "stdout",
          "text": [
            "done!\n"
          ]
        }
      ],
      "source": [
        "# ! wget http://nlp.stanford.edu/data/glove.6B.zip\n",
        "print('done!')"
      ]
    },
    {
      "cell_type": "code",
      "execution_count": null,
      "metadata": {
        "id": "2aoTi2n7RQtS",
        "outputId": "6dc382ff-5245-434a-971c-a91e9f939cb2"
      },
      "outputs": [
        {
          "name": "stdout",
          "output_type": "stream",
          "text": [
            "done!\n"
          ]
        }
      ],
      "source": [
        "# ! unzip glove.6B.zip\n",
        "print('done!')"
      ]
    },
    {
      "cell_type": "code",
      "execution_count": 4,
      "metadata": {
        "id": "Z8AzLFXZUTCw",
        "outputId": "babccb5f-e03b-4256-b79d-c1ca00355ea0",
        "colab": {
          "base_uri": "https://localhost:8080/"
        }
      },
      "outputs": [
        {
          "output_type": "stream",
          "name": "stdout",
          "text": [
            "done!\n"
          ]
        }
      ],
      "source": [
        "EMBEDDING_DIR = \"/content/drive/My Drive/\"\n",
        "print('done!')"
      ]
    },
    {
      "cell_type": "code",
      "execution_count": 5,
      "metadata": {
        "id": "AsO8d8w6TxBh"
      },
      "outputs": [],
      "source": [
        "def load_embeddings(file, embed_dim=100):\n",
        "  #load embeddings\n",
        "\n",
        "  print('loading word embeddings...')\n",
        "  embeddings_index = {}\n",
        "  f = codecs.open(EMBEDDING_DIR+'glove.6B.100d.txt', encoding='utf-8')\n",
        "  for line in f:\n",
        "      values = line.rstrip().rsplit(' ')\n",
        "      word = values[0]\n",
        "      coefs = np.asarray(values[1:], dtype='float32')\n",
        "      embeddings_index[word] = coefs\n",
        "  f.close()\n",
        "  print('found %s word vectors' % len(embeddings_index))\n",
        "  return embeddings_index"
      ]
    },
    {
      "cell_type": "code",
      "execution_count": 6,
      "metadata": {
        "colab": {
          "base_uri": "https://localhost:8080/"
        },
        "id": "iG3clQ-EUPV5",
        "outputId": "fbbf685c-c2f0-46ce-b875-d4578aa8bc34"
      },
      "outputs": [
        {
          "output_type": "stream",
          "name": "stdout",
          "text": [
            "loading word embeddings...\n",
            "found 400000 word vectors\n"
          ]
        }
      ],
      "source": [
        "# embeddings_index = load_embeddings(EMBEDDING_DIR+'glove.6B.300d.txt', embed_dim=300)\n",
        "embeddings_index = load_embeddings(EMBEDDING_DIR+'glove.6B.100d.txt')"
      ]
    },
    {
      "cell_type": "code",
      "execution_count": 7,
      "metadata": {
        "pycharm": {
          "name": "#%%\n"
        },
        "id": "3Mo_6nJLLAup",
        "outputId": "90a913e8-2443-4ef8-f7c5-656ce4b954b3",
        "colab": {
          "base_uri": "https://localhost:8080/"
        }
      },
      "outputs": [
        {
          "output_type": "stream",
          "name": "stdout",
          "text": [
            "done!\n"
          ]
        }
      ],
      "source": [
        "# Armar matriz de embeddings de 400000x100\n",
        "matrix_word_vectors = np.array([list(item) for item in embeddings_index.values()]) # Se puede armar en una linea haciendo un cast a np.array y un .values del dict\n",
        "print('done!')\n"
      ]
    },
    {
      "cell_type": "code",
      "execution_count": 8,
      "metadata": {
        "id": "A8CNEeMLLAuq",
        "outputId": "63e790a2-2db5-4ece-f109-1cba6aa50f28",
        "colab": {
          "base_uri": "https://localhost:8080/"
        }
      },
      "outputs": [
        {
          "output_type": "execute_result",
          "data": {
            "text/plain": [
              "(400000, 100)"
            ]
          },
          "metadata": {},
          "execution_count": 8
        }
      ],
      "source": [
        "np.shape(matrix_word_vectors)"
      ]
    },
    {
      "cell_type": "code",
      "execution_count": 9,
      "metadata": {
        "id": "Mk9GpdAgWhvl"
      },
      "outputs": [],
      "source": [
        "# Aramr lista con vocabilario\n",
        "vocab_list = np.array([item for item in embeddings_index.keys()]) # Se puede armar con una linea .keys del dict"
      ]
    },
    {
      "cell_type": "code",
      "execution_count": 10,
      "metadata": {
        "id": "tkGgFiP4LAur",
        "outputId": "7a5fe9ea-834e-4ae5-9697-fd1e87272c22",
        "colab": {
          "base_uri": "https://localhost:8080/"
        }
      },
      "outputs": [
        {
          "output_type": "stream",
          "name": "stdout",
          "text": [
            "the\n"
          ]
        }
      ],
      "source": [
        "print(vocab_list[0])"
      ]
    },
    {
      "cell_type": "code",
      "execution_count": 11,
      "metadata": {
        "id": "eRUILsUdLAuu",
        "outputId": "01e6c541-d58c-4ce7-93ea-766e2d7cb76c",
        "colab": {
          "base_uri": "https://localhost:8080/"
        }
      },
      "outputs": [
        {
          "output_type": "execute_result",
          "data": {
            "text/plain": [
              "(400000,)"
            ]
          },
          "metadata": {},
          "execution_count": 11
        }
      ],
      "source": [
        "np.shape(vocab_list)"
      ]
    },
    {
      "cell_type": "code",
      "execution_count": 12,
      "metadata": {
        "colab": {
          "base_uri": "https://localhost:8080/"
        },
        "id": "cHpq6u4wj_mf",
        "outputId": "e751b1c4-b157-4ca4-a891-88dcde0abeea"
      },
      "outputs": [
        {
          "output_type": "execute_result",
          "data": {
            "text/plain": [
              "(400000, 100)"
            ]
          },
          "metadata": {},
          "execution_count": 12
        }
      ],
      "source": [
        "matrix_word_vectors.shape"
      ]
    },
    {
      "cell_type": "code",
      "execution_count": 13,
      "metadata": {
        "id": "3CLGwguCLAuv",
        "outputId": "598c17f9-b2ad-4d1d-826d-c6a0d9ba2b9c",
        "colab": {
          "base_uri": "https://localhost:8080/"
        }
      },
      "outputs": [
        {
          "output_type": "execute_result",
          "data": {
            "text/plain": [
              "array([-0.038194, -0.24487 ,  0.72812 , -0.39961 ,  0.083172,  0.043953,\n",
              "       -0.39141 ,  0.3344  , -0.57545 ,  0.087459,  0.28787 , -0.06731 ,\n",
              "        0.30906 , -0.26384 , -0.13231 , -0.20757 ,  0.33395 , -0.33848 ,\n",
              "       -0.31743 , -0.48336 ,  0.1464  , -0.37304 ,  0.34577 ,  0.052041,\n",
              "        0.44946 , -0.46971 ,  0.02628 , -0.54155 , -0.15518 , -0.14107 ,\n",
              "       -0.039722,  0.28277 ,  0.14393 ,  0.23464 , -0.31021 ,  0.086173,\n",
              "        0.20397 ,  0.52624 ,  0.17164 , -0.082378, -0.71787 , -0.41531 ,\n",
              "        0.20335 , -0.12763 ,  0.41367 ,  0.55187 ,  0.57908 , -0.33477 ,\n",
              "       -0.36559 , -0.54857 , -0.062892,  0.26584 ,  0.30205 ,  0.99775 ,\n",
              "       -0.80481 , -3.0243  ,  0.01254 , -0.36942 ,  2.2167  ,  0.72201 ,\n",
              "       -0.24978 ,  0.92136 ,  0.034514,  0.46745 ,  1.1079  , -0.19358 ,\n",
              "       -0.074575,  0.23353 , -0.052062, -0.22044 ,  0.057162, -0.15806 ,\n",
              "       -0.30798 , -0.41625 ,  0.37972 ,  0.15006 , -0.53212 , -0.2055  ,\n",
              "       -1.2526  ,  0.071624,  0.70565 ,  0.49744 , -0.42063 ,  0.26148 ,\n",
              "       -1.538   , -0.30223 , -0.073438, -0.28312 ,  0.37104 , -0.25217 ,\n",
              "        0.016215, -0.017099, -0.38984 ,  0.87424 , -0.72569 , -0.51058 ,\n",
              "       -0.52028 , -0.1459  ,  0.8278  ,  0.27062 ], dtype=float32)"
            ]
          },
          "metadata": {},
          "execution_count": 13
        }
      ],
      "source": [
        "matrix_word_vectors[0]"
      ]
    },
    {
      "cell_type": "code",
      "execution_count": 14,
      "metadata": {
        "id": "rXoyk7t7XHIb"
      },
      "outputs": [],
      "source": [
        "from sklearn.neighbors import NearestNeighbors"
      ]
    },
    {
      "cell_type": "markdown",
      "metadata": {
        "id": "VchnyUJYkYUB"
      },
      "source": [
        "# Entrenar un modelo de Nearest neighbours con los 20 primeros y distancia coseno"
      ]
    },
    {
      "cell_type": "code",
      "execution_count": 15,
      "metadata": {
        "id": "8TLQNKXtX06m"
      },
      "outputs": [],
      "source": [
        "nearest = NearestNeighbors(n_neighbors=20, metric=\"cosine\")"
      ]
    },
    {
      "cell_type": "code",
      "execution_count": 16,
      "metadata": {
        "colab": {
          "base_uri": "https://localhost:8080/"
        },
        "id": "9WvK0UfeX5GP",
        "outputId": "14377903-e289-402b-e09a-ee6ddadc1314"
      },
      "outputs": [
        {
          "output_type": "execute_result",
          "data": {
            "text/plain": [
              "NearestNeighbors(metric='cosine', n_neighbors=20)"
            ]
          },
          "metadata": {},
          "execution_count": 16
        }
      ],
      "source": [
        "# Entrenar modelo\n",
        "nearest.fit(matrix_word_vectors)"
      ]
    },
    {
      "cell_type": "code",
      "execution_count": 17,
      "metadata": {
        "id": "oOQoMzyMjWC0"
      },
      "outputs": [],
      "source": [
        "def get_analogy_by_word(word1, word2, word3, embeddings_index=embeddings_index):\n",
        "  # word1 es a word2 como word3 es a word4\n",
        "  # Tiene que devolver word4\n",
        "  v_word1 = embeddings_index[word1]\n",
        "  v_word2 = embeddings_index[word2]\n",
        "  v_word3 = embeddings_index[word3]\n",
        "\n",
        "  v_word4 = v_word2 - v_word1  + v_word3\n",
        "\n",
        "  distances, neig_idx = nearest.kneighbors([v_word4])\n",
        "\n",
        "#   print(\"distances: \",np.shape(distances))\n",
        "#   print(\"neig_idx: \",np.shape(neig_idx))\n",
        "\n",
        "#   print(\"distancias: \", distances[0])\n",
        "#   print(\"indices: \", neig_idx[0])\n",
        "    \n",
        "  for idx, real_index in enumerate(neig_idx[0]):  \n",
        "    word4 = vocab_list[neig_idx[0][idx]]\n",
        "    if (word3 != word4):\n",
        "      break\n",
        "  return word4"
      ]
    },
    {
      "cell_type": "code",
      "execution_count": 18,
      "metadata": {
        "pycharm": {
          "name": "#%%\n"
        },
        "id": "qrhXAGd7LAux"
      },
      "outputs": [],
      "source": [
        "\n",
        "def get_analogy(word1, word2, word3, embeddings_index=embeddings_index):\n",
        "  # word1 es a word2 como word3 es a word4\n",
        "  # Tiene que devolver word4\n",
        "  v_word1 = embeddings_index[word1]\n",
        "  v_word2 = embeddings_index[word2]\n",
        "  v_word3 = embeddings_index[word3]\n",
        "\n",
        "  v_word4 = v_word2 - v_word1  + v_word3\n",
        "\n",
        "  distances, neig_idx = nearest.kneighbors([v_word4])\n",
        "  # print(neig_idx[0][0])\n",
        "  # print(embeddings_index[neig_idx[0][0]])\n",
        "  return embeddings_index[vocab_list[neig_idx[0][0]]]"
      ]
    },
    {
      "cell_type": "code",
      "execution_count": 19,
      "metadata": {
        "id": "e-JZFggQLAuy"
      },
      "outputs": [],
      "source": [
        "analogy_vector = get_analogy_by_word('switzerland', 'alps', 'argentina')"
      ]
    },
    {
      "cell_type": "code",
      "execution_count": 20,
      "metadata": {
        "id": "5TuhXsbxLAuy"
      },
      "outputs": [],
      "source": [
        "analogy_word = get_analogy_by_word('switzerland', 'alps', 'argentina')"
      ]
    },
    {
      "cell_type": "code",
      "execution_count": 21,
      "metadata": {
        "id": "Rl-Bos6_LAuy",
        "outputId": "f2c7b3cf-91e9-471f-d8c2-b8c5947c8215",
        "colab": {
          "base_uri": "https://localhost:8080/"
        }
      },
      "outputs": [
        {
          "output_type": "stream",
          "name": "stdout",
          "text": [
            "andes\n"
          ]
        }
      ],
      "source": [
        "print(analogy_word)"
      ]
    },
    {
      "cell_type": "code",
      "execution_count": 22,
      "metadata": {
        "id": "i5qgg8cdLAuy"
      },
      "outputs": [],
      "source": [
        "analogy_word = get_analogy_by_word('woman', 'man', 'queen')"
      ]
    },
    {
      "cell_type": "code",
      "execution_count": 23,
      "metadata": {
        "id": "dkYhSOfyLAuy",
        "outputId": "36706dc5-2d6f-4071-91e9-c5148e0a5966",
        "colab": {
          "base_uri": "https://localhost:8080/"
        }
      },
      "outputs": [
        {
          "output_type": "stream",
          "name": "stdout",
          "text": [
            "king\n"
          ]
        }
      ],
      "source": [
        "print(analogy_word)"
      ]
    },
    {
      "cell_type": "code",
      "execution_count": 24,
      "metadata": {
        "id": "Eo-XfEWPLAu0"
      },
      "outputs": [],
      "source": [
        "analogy_word = get_analogy_by_word('messi', 'soccer', 'federer')"
      ]
    },
    {
      "cell_type": "code",
      "execution_count": 25,
      "metadata": {
        "id": "59r00CSKLAu0",
        "outputId": "ce0f343e-4de8-4659-9028-91278f89f461",
        "colab": {
          "base_uri": "https://localhost:8080/"
        }
      },
      "outputs": [
        {
          "output_type": "stream",
          "name": "stdout",
          "text": [
            "tennis\n"
          ]
        }
      ],
      "source": [
        "print(analogy_word)"
      ]
    },
    {
      "cell_type": "code",
      "execution_count": 26,
      "metadata": {
        "id": "wRk5_YwTLAu0"
      },
      "outputs": [],
      "source": [
        "analogy_word = get_analogy_by_word('woman', 'women', 'man')"
      ]
    },
    {
      "cell_type": "code",
      "execution_count": 27,
      "metadata": {
        "id": "vVPlvTugLAu1",
        "outputId": "c48f1341-10ef-40ce-a01a-f3960b0fcf02",
        "colab": {
          "base_uri": "https://localhost:8080/"
        }
      },
      "outputs": [
        {
          "output_type": "stream",
          "name": "stdout",
          "text": [
            "men\n"
          ]
        }
      ],
      "source": [
        "print(analogy_word)"
      ]
    },
    {
      "cell_type": "code",
      "execution_count": 28,
      "metadata": {
        "id": "48Gp65QuLAu1"
      },
      "outputs": [],
      "source": [
        "analogy_word = get_analogy_by_word('man', 'woman', 'son')"
      ]
    },
    {
      "cell_type": "code",
      "execution_count": 29,
      "metadata": {
        "id": "1H40kW3fLAu1",
        "outputId": "3a4a0170-818d-44a2-c4d8-3b80ab781f65",
        "colab": {
          "base_uri": "https://localhost:8080/"
        }
      },
      "outputs": [
        {
          "output_type": "stream",
          "name": "stdout",
          "text": [
            "daughter\n"
          ]
        }
      ],
      "source": [
        "print(analogy_word)"
      ]
    },
    {
      "cell_type": "code",
      "execution_count": 30,
      "metadata": {
        "id": "kQR4OqwrYLVn"
      },
      "outputs": [],
      "source": [
        "def get_nearests_words_by_word(vector, nearest=nearest):\n",
        "  # Dado un vector, tiene que devolver la lista de los 20 mas cercanos\n",
        "  v_word = embeddings_index[vector]\n",
        "  _, neig_idx = nearest.kneighbors([v_word])\n",
        "\n",
        "  words_list = []\n",
        "  for idx, real_index in enumerate(neig_idx[0]): \n",
        "    words_list.append(vocab_list[neig_idx[0][idx]])\n",
        "  return words_list"
      ]
    },
    {
      "cell_type": "code",
      "execution_count": 31,
      "metadata": {
        "pycharm": {
          "name": "#%%\n"
        },
        "id": "metpZ3D8LAu2"
      },
      "outputs": [],
      "source": [
        "def get_nearests_words(vector, nearest=nearest):\n",
        "  # Dado un vector, tiene que devolver la lista de los 20 mas cercanos\n",
        "  _, neig_idx = nearest.kneighbors([vector])\n",
        "\n",
        "  words_list = []\n",
        "  for idx, real_index in enumerate(neig_idx[0]):\n",
        "    words_list.append(vocab_list[neig_idx[0][idx]])\n",
        "  return words_list\n"
      ]
    },
    {
      "cell_type": "code",
      "execution_count": 32,
      "metadata": {
        "id": "deLwGh_zkFbo"
      },
      "outputs": [],
      "source": [
        "# Probar las siguientes analogías\n",
        "#\n",
        "# woman -> man, queen -> ?\n",
        "# england -> london, france-> ?\n",
        "# woman -> women, man -> ?\n",
        "# messi -> soccer, federer -> ?\n",
        "# switzerland -> alps, argentina ->\n",
        "\n",
        "analogy_vector = get_analogy('switzerland', 'alps', 'argentina')"
      ]
    },
    {
      "cell_type": "code",
      "execution_count": 33,
      "metadata": {
        "id": "FgWBU9zJlIPT"
      },
      "outputs": [],
      "source": [
        "# Probar función get_nearests_words\n",
        "similars = get_nearests_words(analogy_vector)"
      ]
    },
    {
      "cell_type": "code",
      "execution_count": 34,
      "metadata": {
        "pycharm": {
          "name": "#%%\n"
        },
        "id": "Nw38yg0bLAu3",
        "outputId": "9be60e81-481b-486d-b236-41f94fde11e1",
        "colab": {
          "base_uri": "https://localhost:8080/"
        }
      },
      "outputs": [
        {
          "output_type": "stream",
          "name": "stdout",
          "text": [
            "['andes', 'foothills', 'mountains', 'cordillera', 'himalayas', 'patagonia', 'andean', 'himalaya', 'jungles', 'apennines', 'highlands', 'peru', 'alps', 'slopes', 'ural', 'madre', 'lowlands', 'carpathians', 'elevations', 'deserts']\n"
          ]
        }
      ],
      "source": [
        "print(similars)"
      ]
    },
    {
      "cell_type": "code",
      "execution_count": 35,
      "metadata": {
        "id": "DILrgwaRYVLu"
      },
      "outputs": [],
      "source": [
        "animals = ['dog',\n",
        " 'cat',\n",
        " 'dogs',\n",
        " 'pet',\n",
        " 'puppy',\n",
        " 'horse',\n",
        " 'animal',\n",
        " 'pig',\n",
        " 'boy',\n",
        " 'cats',\n",
        " 'rabbit',\n",
        " 'goat',\n",
        " 'sled',\n",
        " 'monkey',\n",
        " 'cow',\n",
        " 'rat',\n",
        " 'breed',\n",
        " 'mad',\n",
        " 'hound',\n",
        " 'bird']"
      ]
    },
    {
      "cell_type": "code",
      "execution_count": 36,
      "metadata": {
        "id": "oYFVs9ipnbbF"
      },
      "outputs": [],
      "source": [
        "transport = ['car',\n",
        " 'vehicle',\n",
        " 'truck',\n",
        " 'cars',\n",
        " 'driver',\n",
        " 'driving',\n",
        " 'motorcycle',\n",
        " 'vehicles',\n",
        " 'parked',\n",
        " 'bus',\n",
        " 'taxi',\n",
        " 'suv',\n",
        " 'pickup',\n",
        " 'jeep',\n",
        " 'mercedes',\n",
        " 'cab',\n",
        " 'bicycle',\n",
        " 'drivers',\n",
        " 'automobile',\n",
        " 'train']"
      ]
    },
    {
      "cell_type": "code",
      "execution_count": 37,
      "metadata": {
        "id": "yg9C7itHnhte"
      },
      "outputs": [],
      "source": [
        "countries = ['argentina',\n",
        " 'england',\n",
        " 'australia',\n",
        " 'spain',\n",
        " 'brazil',\n",
        " 'portugal',\n",
        " 'zealand',\n",
        " 'scotland',\n",
        " 'match',\n",
        " 'africa',\n",
        " 'wales',\n",
        " 'ireland',\n",
        " 'italy',\n",
        " 'matches',\n",
        " 'france',\n",
        " 'indies',\n",
        " 'uruguay',\n",
        " 'britain',\n",
        " 'netherlands',\n",
        " 'united']"
      ]
    },
    {
      "cell_type": "code",
      "execution_count": 38,
      "metadata": {
        "id": "7GWSToprnOxe"
      },
      "outputs": [],
      "source": [
        "professions = ['engineer',\n",
        " 'scientist',\n",
        " 'economist',\n",
        " 'professor',\n",
        " 'consultant',\n",
        " 'director',\n",
        " 'dr.',\n",
        " 'doctor',\n",
        " 'researcher',\n",
        " 'expert',\n",
        " 'physician',\n",
        " 'officer',\n",
        " 'surgeon',\n",
        " 'chief',\n",
        " 'assistant',\n",
        " 'specialist',\n",
        " 'associate',\n",
        " 'author',\n",
        " 'worked',\n",
        " 'psychologist']"
      ]
    },
    {
      "cell_type": "code",
      "execution_count": 39,
      "metadata": {
        "id": "q7yBjxNNn07R"
      },
      "outputs": [],
      "source": [
        "all_words = animals + transport + countries + professions"
      ]
    },
    {
      "cell_type": "code",
      "execution_count": 40,
      "metadata": {
        "id": "LMhEWApEoV_h"
      },
      "outputs": [],
      "source": [
        "vectors_subset = np.array([embeddings_index[word] for word in all_words])"
      ]
    },
    {
      "cell_type": "code",
      "execution_count": 41,
      "metadata": {
        "id": "7rOSh6UOoLPX"
      },
      "outputs": [],
      "source": [
        "from sklearn.manifold import TSNE"
      ]
    },
    {
      "cell_type": "code",
      "execution_count": 42,
      "metadata": {
        "id": "GhLy6ekooxkK"
      },
      "outputs": [],
      "source": [
        "tsne = TSNE(2, verbose=1)"
      ]
    },
    {
      "cell_type": "code",
      "execution_count": 43,
      "metadata": {
        "colab": {
          "base_uri": "https://localhost:8080/"
        },
        "id": "6-SH_MWXo0MA",
        "outputId": "6b634b24-d96c-478e-ba8f-d27f0f3d6a36"
      },
      "outputs": [
        {
          "output_type": "stream",
          "name": "stderr",
          "text": [
            "/usr/local/lib/python3.7/dist-packages/sklearn/manifold/_t_sne.py:783: FutureWarning: The default initialization in TSNE will change from 'random' to 'pca' in 1.2.\n",
            "  FutureWarning,\n",
            "/usr/local/lib/python3.7/dist-packages/sklearn/manifold/_t_sne.py:793: FutureWarning: The default learning rate in TSNE will change from 200.0 to 'auto' in 1.2.\n",
            "  FutureWarning,\n"
          ]
        },
        {
          "output_type": "stream",
          "name": "stdout",
          "text": [
            "[t-SNE] Computing 79 nearest neighbors...\n",
            "[t-SNE] Indexed 80 samples in 0.000s...\n",
            "[t-SNE] Computed neighbors for 80 samples in 0.008s...\n",
            "[t-SNE] Computed conditional probabilities for sample 80 / 80\n",
            "[t-SNE] Mean sigma: 3.172693\n",
            "[t-SNE] KL divergence after 250 iterations with early exaggeration: 56.154976\n",
            "[t-SNE] KL divergence after 1000 iterations: 0.258298\n",
            "CPU times: user 931 ms, sys: 97.1 ms, total: 1.03 s\n",
            "Wall time: 552 ms\n"
          ]
        }
      ],
      "source": [
        "%time embed_2d_tsne = tsne.fit_transform(vectors_subset)"
      ]
    },
    {
      "cell_type": "code",
      "execution_count": 44,
      "metadata": {
        "id": "refMfFQqo3-3"
      },
      "outputs": [],
      "source": [
        "from matplotlib import pyplot as plt"
      ]
    },
    {
      "cell_type": "code",
      "execution_count": 45,
      "metadata": {
        "id": "tpYyqyQTo-RU",
        "colab": {
          "base_uri": "https://localhost:8080/",
          "height": 265
        },
        "outputId": "3a292776-7652-4073-dab9-0a74f17366ea"
      },
      "outputs": [
        {
          "output_type": "display_data",
          "data": {
            "image/png": "[encoded data removed]",
            "text/plain": [
              "<Figure size 432x288 with 1 Axes>"
            ]
          },
          "metadata": {
            "needs_background": "light"
          }
        }
      ],
      "source": [
        "for i in range(4):\n",
        "  plt.scatter(embed_2d_tsne[i*20:(i+1)*20,0], embed_2d_tsne[i*20:(i+1)*20,1], c=f'C{i}')"
      ]
    }
  ],
  "metadata": {
    "colab": {
      "name": "nlp_lab06_glove_tests_antonelli.ipynb",
      "provenance": [],
      "collapsed_sections": [
        "VchnyUJYkYUB"
      ]
    },
    "kernelspec": {
      "display_name": "PyCharm (deepLCourse)",
      "language": "python",
      "name": "pycharm-f766f754"
    },
    "language_info": {
      "codemirror_mode": {
        "name": "ipython",
        "version": 3
      },
      "file_extension": ".py",
      "mimetype": "text/x-python",
      "name": "python",
      "nbconvert_exporter": "python",
      "pygments_lexer": "ipython3",
      "version": "3.7.11"
    }
  },
  "nbformat": 4,
  "nbformat_minor": 0
}